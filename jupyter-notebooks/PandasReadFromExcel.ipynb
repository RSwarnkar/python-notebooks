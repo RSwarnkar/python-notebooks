{
 "cells": [
  {
   "cell_type": "code",
   "execution_count": 1,
   "metadata": {},
   "outputs": [],
   "source": [
    "import numpy as np\n",
    "import pandas as pd"
   ]
  },
  {
   "cell_type": "code",
   "execution_count": 2,
   "metadata": {},
   "outputs": [
    {
     "data": {
      "text/plain": [
       "in    1\n",
       "jp    2\n",
       "us    3\n",
       "dtype: object"
      ]
     },
     "execution_count": 2,
     "metadata": {},
     "output_type": "execute_result"
    }
   ],
   "source": [
    "pd.Series(data='1 2 3'.split(), index='in jp us'.split())\n"
   ]
  },
  {
   "cell_type": "code",
   "execution_count": 3,
   "metadata": {},
   "outputs": [],
   "source": [
    "import xlrd"
   ]
  },
  {
   "cell_type": "code",
   "execution_count": 4,
   "metadata": {},
   "outputs": [],
   "source": [
    "sodexo = pd.read_excel('sodexo.xls', 'transactions_details')"
   ]
  },
  {
   "cell_type": "code",
   "execution_count": 5,
   "metadata": {},
   "outputs": [
    {
     "data": {
      "text/html": [
       "<div>\n",
       "<style scoped>\n",
       "    .dataframe tbody tr th:only-of-type {\n",
       "        vertical-align: middle;\n",
       "    }\n",
       "\n",
       "    .dataframe tbody tr th {\n",
       "        vertical-align: top;\n",
       "    }\n",
       "\n",
       "    .dataframe thead th {\n",
       "        text-align: right;\n",
       "    }\n",
       "</style>\n",
       "<table border=\"1\" class=\"dataframe\">\n",
       "  <thead>\n",
       "    <tr style=\"text-align: right;\">\n",
       "      <th></th>\n",
       "      <th>Date &amp; Time of Balance</th>\n",
       "      <th>Card type</th>\n",
       "      <th>Transaction ID</th>\n",
       "      <th>Transaction Details</th>\n",
       "      <th>Credit(in Rs.)</th>\n",
       "      <th>Debit(in Rs.)</th>\n",
       "      <th>Previous Balance(in Rs.)</th>\n",
       "      <th>New Balance(in Rs.)</th>\n",
       "    </tr>\n",
       "  </thead>\n",
       "  <tbody>\n",
       "    <tr>\n",
       "      <th>0</th>\n",
       "      <td>05/11/2019 17:37:01</td>\n",
       "      <td>Meal card</td>\n",
       "      <td>1242131289530</td>\n",
       "      <td>SODEXO FOOD SOLUTIONS (I) PVT LTD</td>\n",
       "      <td>0.00</td>\n",
       "      <td>35.0</td>\n",
       "      <td>4,273.00</td>\n",
       "      <td>4,238.00</td>\n",
       "    </tr>\n",
       "    <tr>\n",
       "      <th>1</th>\n",
       "      <td>05/11/2019 16:28:31</td>\n",
       "      <td>Meal card</td>\n",
       "      <td>1242091281757</td>\n",
       "      <td>CAPGEMINI TECHNOLOGY SERVICES INDIA LTD</td>\n",
       "      <td>2,000.00</td>\n",
       "      <td>0.0</td>\n",
       "      <td>2,273.00</td>\n",
       "      <td>4,273.00</td>\n",
       "    </tr>\n",
       "    <tr>\n",
       "      <th>2</th>\n",
       "      <td>05/11/2019 13:04:23</td>\n",
       "      <td>Meal card</td>\n",
       "      <td>1242231228412</td>\n",
       "      <td>SODEXO FOOD SOLUTIONS (I) PVT LTD</td>\n",
       "      <td>0.00</td>\n",
       "      <td>65.0</td>\n",
       "      <td>2,338.00</td>\n",
       "      <td>2,273.00</td>\n",
       "    </tr>\n",
       "    <tr>\n",
       "      <th>3</th>\n",
       "      <td>05/11/2019 09:56:04</td>\n",
       "      <td>Meal card</td>\n",
       "      <td>1242071209902</td>\n",
       "      <td>SODEXO FOOD SOLUTIONS (I) PVT LTD</td>\n",
       "      <td>0.00</td>\n",
       "      <td>35.0</td>\n",
       "      <td>2,373.00</td>\n",
       "      <td>2,338.00</td>\n",
       "    </tr>\n",
       "  </tbody>\n",
       "</table>\n",
       "</div>"
      ],
      "text/plain": [
       "  Date & Time of Balance  Card type  Transaction ID  \\\n",
       "0    05/11/2019 17:37:01  Meal card   1242131289530   \n",
       "1    05/11/2019 16:28:31  Meal card   1242091281757   \n",
       "2    05/11/2019 13:04:23  Meal card   1242231228412   \n",
       "3    05/11/2019 09:56:04  Meal card   1242071209902   \n",
       "\n",
       "                       Transaction Details Credit(in Rs.)  Debit(in Rs.)  \\\n",
       "0        SODEXO FOOD SOLUTIONS (I) PVT LTD           0.00           35.0   \n",
       "1  CAPGEMINI TECHNOLOGY SERVICES INDIA LTD       2,000.00            0.0   \n",
       "2        SODEXO FOOD SOLUTIONS (I) PVT LTD           0.00           65.0   \n",
       "3        SODEXO FOOD SOLUTIONS (I) PVT LTD           0.00           35.0   \n",
       "\n",
       "  Previous Balance(in Rs.) New Balance(in Rs.)  \n",
       "0                 4,273.00            4,238.00  \n",
       "1                 2,273.00            4,273.00  \n",
       "2                 2,338.00            2,273.00  \n",
       "3                 2,373.00            2,338.00  "
      ]
     },
     "execution_count": 5,
     "metadata": {},
     "output_type": "execute_result"
    }
   ],
   "source": [
    "sodexo.head(4)\n"
   ]
  },
  {
   "cell_type": "code",
   "execution_count": 8,
   "metadata": {},
   "outputs": [],
   "source": [
    "expo = { 'india':230, 'japan':320, 'china':1209, 'usa':1106}"
   ]
  },
  {
   "cell_type": "code",
   "execution_count": 9,
   "metadata": {},
   "outputs": [
    {
     "data": {
      "text/plain": [
       "dict_keys(['india', 'japan', 'china', 'usa'])"
      ]
     },
     "execution_count": 9,
     "metadata": {},
     "output_type": "execute_result"
    }
   ],
   "source": [
    "expo.values()\n",
    "expo.keys()\n"
   ]
  },
  {
   "cell_type": "code",
   "execution_count": 10,
   "metadata": {},
   "outputs": [],
   "source": [
    "# expo_df = pd.DataFrame(expo)\n",
    "expo_sr = pd.Series(data=expo.values(), index=expo.keys()) #error\n",
    "\n",
    "\n"
   ]
  },
  {
   "cell_type": "code",
   "execution_count": 11,
   "metadata": {
    "scrolled": true
   },
   "outputs": [
    {
     "data": {
      "text/plain": [
       "0    (230, 320, 1209, 1106)\n",
       "1    (230, 320, 1209, 1106)\n",
       "2    (230, 320, 1209, 1106)\n",
       "3    (230, 320, 1209, 1106)\n",
       "dtype: object"
      ]
     },
     "execution_count": 11,
     "metadata": {},
     "output_type": "execute_result"
    }
   ],
   "source": [
    "# expo_df = pd.DataFrame(expo)\n",
    "expo_sr = pd.Series(expo.values()) #error\n",
    "\n",
    "\n",
    "expo_sr"
   ]
  },
  {
   "cell_type": "code",
   "execution_count": null,
   "metadata": {},
   "outputs": [],
   "source": []
  },
  {
   "cell_type": "code",
   "execution_count": null,
   "metadata": {},
   "outputs": [],
   "source": []
  }
 ],
 "metadata": {
  "kernelspec": {
   "display_name": "Python 3",
   "language": "python",
   "name": "python3"
  },
  "language_info": {
   "codemirror_mode": {
    "name": "ipython",
    "version": 3
   },
   "file_extension": ".py",
   "mimetype": "text/x-python",
   "name": "python",
   "nbconvert_exporter": "python",
   "pygments_lexer": "ipython3",
   "version": "3.7.4"
  }
 },
 "nbformat": 4,
 "nbformat_minor": 2
}
