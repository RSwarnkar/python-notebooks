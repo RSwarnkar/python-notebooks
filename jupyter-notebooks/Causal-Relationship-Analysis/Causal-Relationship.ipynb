{
 "cells": [
  {
   "cell_type": "markdown",
   "metadata": {},
   "source": [
    "### Causal Relationship and Cross Correlation - RCA\n",
    "\n",
    "### Metrics\n",
    "\n",
    "KPIs:\n",
    "* CPU Utlization\n",
    "* Memory Utilization\n",
    "* Agent wise CPU load - Load Balancing\n",
    "* Web request count by web server - Load Balancing\n",
    "* Web server Busy Thread Count - Load Balancing \n",
    "* Web Request Count\n",
    "* User action Count\n",
    "* User Visit Count\n",
    "* Visit UEM Index\n",
    "* User action UEM index\n",
    "* Server side contribution \n",
    "* Network side contribution\n",
    "* Concurrent visit count\n",
    "* Avg Bytes Sent\n",
    "* Avg Bytes received\n",
    "* \n",
    "\n",
    "\n",
    "\n",
    "\n",
    "Impacted User KPI "
   ]
  },
  {
   "cell_type": "code",
   "execution_count": null,
   "metadata": {},
   "outputs": [],
   "source": []
  }
 ],
 "metadata": {
  "kernelspec": {
   "display_name": "Python 3",
   "language": "python",
   "name": "python3"
  },
  "language_info": {
   "codemirror_mode": {
    "name": "ipython",
    "version": 3
   },
   "file_extension": ".py",
   "mimetype": "text/x-python",
   "name": "python",
   "nbconvert_exporter": "python",
   "pygments_lexer": "ipython3",
   "version": "3.7.4"
  }
 },
 "nbformat": 4,
 "nbformat_minor": 2
}
