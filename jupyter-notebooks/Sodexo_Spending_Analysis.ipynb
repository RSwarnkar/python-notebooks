{
 "cells": [
  {
   "cell_type": "code",
   "execution_count": 1,
   "metadata": {},
   "outputs": [],
   "source": [
    "import numpy as np\n",
    "import pandas as pd"
   ]
  },
  {
   "cell_type": "code",
   "execution_count": 2,
   "metadata": {
    "scrolled": true
   },
   "outputs": [],
   "source": [
    "dframe = pd.read_excel('sodexo.xls', 'transactions_details')\n",
    "\n"
   ]
  },
  {
   "cell_type": "code",
   "execution_count": 3,
   "metadata": {},
   "outputs": [
    {
     "data": {
      "text/html": [
       "<div>\n",
       "<style scoped>\n",
       "    .dataframe tbody tr th:only-of-type {\n",
       "        vertical-align: middle;\n",
       "    }\n",
       "\n",
       "    .dataframe tbody tr th {\n",
       "        vertical-align: top;\n",
       "    }\n",
       "\n",
       "    .dataframe thead th {\n",
       "        text-align: right;\n",
       "    }\n",
       "</style>\n",
       "<table border=\"1\" class=\"dataframe\">\n",
       "  <thead>\n",
       "    <tr style=\"text-align: right;\">\n",
       "      <th></th>\n",
       "      <th>Date &amp; Time of Balance</th>\n",
       "      <th>Card type</th>\n",
       "      <th>Transaction ID</th>\n",
       "      <th>Transaction Details</th>\n",
       "      <th>Credit(in Rs.)</th>\n",
       "      <th>Debit(in Rs.)</th>\n",
       "      <th>Previous Balance(in Rs.)</th>\n",
       "      <th>New Balance(in Rs.)</th>\n",
       "    </tr>\n",
       "  </thead>\n",
       "  <tbody>\n",
       "    <tr>\n",
       "      <th>258</th>\n",
       "      <td>24/06/2019 15:30:56</td>\n",
       "      <td>Meal card</td>\n",
       "      <td>115710384165</td>\n",
       "      <td>SODEXO FOOD SOLUTIONS (I) PVT LTD</td>\n",
       "      <td>0.00</td>\n",
       "      <td>10.0</td>\n",
       "      <td>1,892.00</td>\n",
       "      <td>1,882.00</td>\n",
       "    </tr>\n",
       "    <tr>\n",
       "      <th>259</th>\n",
       "      <td>24/06/2019 15:27:32</td>\n",
       "      <td>Meal card</td>\n",
       "      <td>115708385093</td>\n",
       "      <td>SODEXO FOOD SOLUTIONS (I) PVT LTD</td>\n",
       "      <td>0.00</td>\n",
       "      <td>38.0</td>\n",
       "      <td>1,930.00</td>\n",
       "      <td>1,892.00</td>\n",
       "    </tr>\n",
       "    <tr>\n",
       "      <th>260</th>\n",
       "      <td>24/06/2019 13:21:18</td>\n",
       "      <td>Meal card</td>\n",
       "      <td>115710365347</td>\n",
       "      <td>SODEXO FOOD SOLUTIONS (I) PVT LTD</td>\n",
       "      <td>0.00</td>\n",
       "      <td>35.0</td>\n",
       "      <td>1,965.00</td>\n",
       "      <td>1,930.00</td>\n",
       "    </tr>\n",
       "    <tr>\n",
       "      <th>261</th>\n",
       "      <td>24/06/2019 11:16:56</td>\n",
       "      <td>Meal card</td>\n",
       "      <td>115715344714</td>\n",
       "      <td>SODEXO FOOD SOLUTIONS (I) PVT LTD</td>\n",
       "      <td>0.00</td>\n",
       "      <td>35.0</td>\n",
       "      <td>2,000.00</td>\n",
       "      <td>1,965.00</td>\n",
       "    </tr>\n",
       "    <tr>\n",
       "      <th>262</th>\n",
       "      <td>21/06/2019 13:53:57</td>\n",
       "      <td>Meal card</td>\n",
       "      <td>115713081555</td>\n",
       "      <td>CAPGEMINI TECHNOLOGY SERVICES INDIA LTD</td>\n",
       "      <td>2,000.00</td>\n",
       "      <td>0.0</td>\n",
       "      <td>0.00</td>\n",
       "      <td>2,000.00</td>\n",
       "    </tr>\n",
       "  </tbody>\n",
       "</table>\n",
       "</div>"
      ],
      "text/plain": [
       "    Date & Time of Balance  Card type  Transaction ID  \\\n",
       "258    24/06/2019 15:30:56  Meal card    115710384165   \n",
       "259    24/06/2019 15:27:32  Meal card    115708385093   \n",
       "260    24/06/2019 13:21:18  Meal card    115710365347   \n",
       "261    24/06/2019 11:16:56  Meal card    115715344714   \n",
       "262    21/06/2019 13:53:57  Meal card    115713081555   \n",
       "\n",
       "                         Transaction Details Credit(in Rs.)  Debit(in Rs.)  \\\n",
       "258        SODEXO FOOD SOLUTIONS (I) PVT LTD           0.00           10.0   \n",
       "259        SODEXO FOOD SOLUTIONS (I) PVT LTD           0.00           38.0   \n",
       "260        SODEXO FOOD SOLUTIONS (I) PVT LTD           0.00           35.0   \n",
       "261        SODEXO FOOD SOLUTIONS (I) PVT LTD           0.00           35.0   \n",
       "262  CAPGEMINI TECHNOLOGY SERVICES INDIA LTD       2,000.00            0.0   \n",
       "\n",
       "    Previous Balance(in Rs.) New Balance(in Rs.)  \n",
       "258                 1,892.00            1,882.00  \n",
       "259                 1,930.00            1,892.00  \n",
       "260                 1,965.00            1,930.00  \n",
       "261                 2,000.00            1,965.00  \n",
       "262                     0.00            2,000.00  "
      ]
     },
     "execution_count": 3,
     "metadata": {},
     "output_type": "execute_result"
    }
   ],
   "source": [
    "dframe.tail()"
   ]
  },
  {
   "cell_type": "code",
   "execution_count": 7,
   "metadata": {},
   "outputs": [
    {
     "data": {
      "text/plain": [
       "'Date & Time of Balance'"
      ]
     },
     "execution_count": 7,
     "metadata": {},
     "output_type": "execute_result"
    }
   ],
   "source": [
    "dframe.columns[0]"
   ]
  },
  {
   "cell_type": "code",
   "execution_count": 9,
   "metadata": {},
   "outputs": [
    {
     "data": {
      "text/plain": [
       "0      05/11/2019 17:37:01\n",
       "1      05/11/2019 16:28:31\n",
       "2      05/11/2019 13:04:23\n",
       "3      05/11/2019 09:56:04\n",
       "4      05/11/2019 09:47:29\n",
       "              ...         \n",
       "258    24/06/2019 15:30:56\n",
       "259    24/06/2019 15:27:32\n",
       "260    24/06/2019 13:21:18\n",
       "261    24/06/2019 11:16:56\n",
       "262    21/06/2019 13:53:57\n",
       "Name: Date & Time of Balance, Length: 263, dtype: object"
      ]
     },
     "execution_count": 9,
     "metadata": {},
     "output_type": "execute_result"
    }
   ],
   "source": [
    "dframe['Date & Time of Balance']"
   ]
  },
  {
   "cell_type": "code",
   "execution_count": 14,
   "metadata": {},
   "outputs": [],
   "source": [
    "dframe.rename(columns={'Date & Time of Balance':'Date'}, inplace=True)\n",
    "    \n",
    "    \n",
    "    \n",
    "    \n",
    "    "
   ]
  },
  {
   "cell_type": "code",
   "execution_count": 15,
   "metadata": {},
   "outputs": [],
   "source": [
    "dframe.to_csv('sodexo.csv')"
   ]
  },
  {
   "cell_type": "code",
   "execution_count": null,
   "metadata": {},
   "outputs": [],
   "source": []
  },
  {
   "cell_type": "code",
   "execution_count": null,
   "metadata": {},
   "outputs": [],
   "source": []
  },
  {
   "cell_type": "code",
   "execution_count": null,
   "metadata": {},
   "outputs": [],
   "source": []
  }
 ],
 "metadata": {
  "kernelspec": {
   "display_name": "Python 3",
   "language": "python",
   "name": "python3"
  },
  "language_info": {
   "codemirror_mode": {
    "name": "ipython",
    "version": 3
   },
   "file_extension": ".py",
   "mimetype": "text/x-python",
   "name": "python",
   "nbconvert_exporter": "python",
   "pygments_lexer": "ipython3",
   "version": "3.7.5"
  }
 },
 "nbformat": 4,
 "nbformat_minor": 2
}
