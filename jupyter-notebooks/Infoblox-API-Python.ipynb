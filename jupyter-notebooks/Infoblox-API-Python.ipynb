{
 "cells": [
  {
   "cell_type": "markdown",
   "metadata": {},
   "source": [
    "\n",
    "# Accessing Infoblox API via Python Requests "
   ]
  },
  {
   "cell_type": "code",
   "execution_count": 14,
   "metadata": {},
   "outputs": [],
   "source": [
    "# Imports\n",
    "\n",
    "import requests\n",
    "import base64\n",
    "import json\n",
    "\n"
   ]
  },
  {
   "cell_type": "code",
   "execution_count": 18,
   "metadata": {},
   "outputs": [],
   "source": [
    "#Initialize\n",
    "infoblox_url = \"https://gnoc-ipam.capgemini.com/wapi/v2.7/network?_return_fields=network,network_view,comment&_return_fields=extattrs&_return_type=json&_max_results=5\"\n",
    "myUsername = \"rswarnka\"\n",
    "myCred = base64.b64decode(\"....==\")\n",
    "\n"
   ]
  },
  {
   "cell_type": "code",
   "execution_count": 19,
   "metadata": {},
   "outputs": [
    {
     "data": {
      "text/plain": [
       "'C:\\\\anaconda3\\\\lib\\\\site-packages\\\\certifi\\\\cacert.pem'"
      ]
     },
     "execution_count": 19,
     "metadata": {},
     "output_type": "execute_result"
    }
   ],
   "source": [
    "import certifi\n",
    "certifi.where() # Specifies location of CA Certs"
   ]
  },
  {
   "cell_type": "markdown",
   "metadata": {},
   "source": [
    "## How to add a custom CA Root certificate to the CA Store used by pip in Windows?\n",
    "* [StakOverflow Answer](https://stackoverflow.com/questions/39356413/how-to-add-a-custom-ca-root-certificate-to-the-ca-store-used-by-pip-in-windows/52961564#52961564)\n",
    "* [IBM Link](https://www.ibm.com/support/pages/python-request-module-always-returns-certificate-verify-failed-while-connecting-ascd) "
   ]
  },
  {
   "cell_type": "code",
   "execution_count": 22,
   "metadata": {},
   "outputs": [
    {
     "name": "stderr",
     "output_type": "stream",
     "text": [
      "C:\\anaconda3\\lib\\site-packages\\urllib3\\connectionpool.py:847: InsecureRequestWarning: Unverified HTTPS request is being made. Adding certificate verification is strongly advised. See: https://urllib3.readthedocs.io/en/latest/advanced-usage.html#ssl-warnings\n",
      "  InsecureRequestWarning)\n"
     ]
    }
   ],
   "source": [
    "#Create Session\n",
    "mySession = requests.Session();\n",
    "mySession.auth = (myUsername, myCred);\n",
    "\n",
    "\n",
    "# WORST\n",
    "auth = mySession.post('https://gnoc-ipam.capgemini.com/wapi/v2.7/', verify=False);\n",
    "\n",
    "# Better\n",
    "# auth = mySession.post('https://gnoc-ipam.capgemini.com/', verify=\"C:\\\\anaconda3\\\\lib\\\\site-packages\\\\certifi\\\\cacert.pem\");\n",
    "\n",
    "# Best\n",
    "# auth = mySession.post('https://gnoc-ipam.capgemini.com/wapi/v2.7/', cert=());\n",
    "\n",
    "\n"
   ]
  },
  {
   "cell_type": "code",
   "execution_count": 23,
   "metadata": {},
   "outputs": [
    {
     "name": "stderr",
     "output_type": "stream",
     "text": [
      "C:\\anaconda3\\lib\\site-packages\\urllib3\\connectionpool.py:847: InsecureRequestWarning: Unverified HTTPS request is being made. Adding certificate verification is strongly advised. See: https://urllib3.readthedocs.io/en/latest/advanced-usage.html#ssl-warnings\n",
      "  InsecureRequestWarning)\n"
     ]
    }
   ],
   "source": [
    "response = mySession.get(infoblox_url, headers={\"content-type\":\"application/json\"});"
   ]
  },
  {
   "cell_type": "code",
   "execution_count": 24,
   "metadata": {},
   "outputs": [],
   "source": [
    "json_response = json.loads(response.content)"
   ]
  },
  {
   "cell_type": "code",
   "execution_count": 25,
   "metadata": {},
   "outputs": [],
   "source": [
    "myPath = \"infoblox_data.json\"\n",
    "\n",
    "with open(myPath, \"w\") as write_file:\n",
    "    json.dump(json_response, write_file);"
   ]
  },
  {
   "cell_type": "code",
   "execution_count": null,
   "metadata": {},
   "outputs": [],
   "source": []
  }
 ],
 "metadata": {
  "kernelspec": {
   "display_name": "Python 3",
   "language": "python",
   "name": "python3"
  },
  "language_info": {
   "codemirror_mode": {
    "name": "ipython",
    "version": 3
   },
   "file_extension": ".py",
   "mimetype": "text/x-python",
   "name": "python",
   "nbconvert_exporter": "python",
   "pygments_lexer": "ipython3",
   "version": "3.7.4"
  }
 },
 "nbformat": 4,
 "nbformat_minor": 2
}
